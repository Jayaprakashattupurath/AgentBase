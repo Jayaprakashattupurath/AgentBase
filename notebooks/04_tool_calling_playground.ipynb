{
  "cells": [
    {
      "cell_type": "markdown",
      "metadata": {},
      "source": [
        "# Tool Calling Playground\n",
        "\n",
        "Try invoking vitals checks and alert tools from here.\n"
      ]
    }
  ],
  "metadata": {
    "language_info": {
      "name": "python"
    }
  },
  "nbformat": 4,
  "nbformat_minor": 2
}
